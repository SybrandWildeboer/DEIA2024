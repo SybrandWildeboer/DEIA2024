{
  "cells": [
    {
      "cell_type": "markdown",
      "id": "7bcdad0e-b67c-4927-b00e-3a4d950cd8ce",
      "metadata": {
        "id": "7bcdad0e-b67c-4927-b00e-3a4d950cd8ce"
      },
      "source": [
        "# How to fine-tune chat models\n",
        "\n",
        "Fine-tuning improves the model by training on many more examples than can fit in a prompt, letting you achieve better results on a wide number of tasks. This notebook provides a step-by-step guide for our new GPT-4o mini fine-tuning. We'll perform entity extraction using the [RecipeNLG dataset](https://github.com/Glorf/recipenlg), which provides various recipes and a list of extracted generic ingredients for each. This is a common dataset for named entity recognition (NER) tasks.\n",
        "\n",
        "Note: **GPT-4o mini fine-tuning is available to developers in our [Tier 4 and 5 usage tiers](https://platform.openai.com/docs/guides/rate-limits/usage-tiers).** You can start fine-tuning GPT-4o mini by visiting your fine-tuning dashboard, clicking \"create\", and selecting “gpt-4o-mini-2024-07-18” from the base model drop-down.\n",
        "\n",
        "We will go through the following steps:\n",
        "\n",
        "1. **Setup:** Loading our dataset and filtering down to one domain to fine-tune on.\n",
        "2. **Data preparation:** Preparing your data for fine-tuning by creating training and validation examples, and uploading them to the `Files` endpoint.\n",
        "3. **Fine-tuning:** Creating your fine-tuned model.\n",
        "4. **Inference:** Using your fine-tuned model for inference on new inputs.\n",
        "\n",
        "By the end of this you should be able to train, evaluate and deploy a fine-tuned `gpt-4o-mini-2024-07-18` model.\n",
        "\n",
        "For more information on fine-tuning, you can refer to our [documentation guide](https://platform.openai.com/docs/guides/fine-tuning) or [API reference](https://platform.openai.com/docs/api-reference/fine-tuning).\n"
      ]
    },
    {
      "cell_type": "markdown",
      "id": "6f49cb10-f895-41f4-aa97-da606d0084d4",
      "metadata": {
        "id": "6f49cb10-f895-41f4-aa97-da606d0084d4"
      },
      "source": [
        "## Setup\n"
      ]
    },
    {
      "cell_type": "code",
      "execution_count": 1,
      "id": "32036e70",
      "metadata": {
        "colab": {
          "base_uri": "https://localhost:8080/"
        },
        "id": "32036e70",
        "outputId": "c21bc829-4a0f-4338-eb02-47240619f32f"
      },
      "outputs": [
        {
          "output_type": "stream",
          "name": "stdout",
          "text": [
            "\u001b[2K   \u001b[90m━━━━━━━━━━━━━━━━━━━━━━━━━━━━━━━━━━━━━━━━\u001b[0m \u001b[32m383.0/383.0 kB\u001b[0m \u001b[31m5.7 MB/s\u001b[0m eta \u001b[36m0:00:00\u001b[0m\n",
            "\u001b[2K   \u001b[90m━━━━━━━━━━━━━━━━━━━━━━━━━━━━━━━━━━━━━━━━\u001b[0m \u001b[32m76.4/76.4 kB\u001b[0m \u001b[31m2.8 MB/s\u001b[0m eta \u001b[36m0:00:00\u001b[0m\n",
            "\u001b[2K   \u001b[90m━━━━━━━━━━━━━━━━━━━━━━━━━━━━━━━━━━━━━━━━\u001b[0m \u001b[32m77.9/77.9 kB\u001b[0m \u001b[31m4.3 MB/s\u001b[0m eta \u001b[36m0:00:00\u001b[0m\n",
            "\u001b[2K   \u001b[90m━━━━━━━━━━━━━━━━━━━━━━━━━━━━━━━━━━━━━━━━\u001b[0m \u001b[32m318.9/318.9 kB\u001b[0m \u001b[31m12.6 MB/s\u001b[0m eta \u001b[36m0:00:00\u001b[0m\n",
            "\u001b[2K   \u001b[90m━━━━━━━━━━━━━━━━━━━━━━━━━━━━━━━━━━━━━━━━\u001b[0m \u001b[32m58.3/58.3 kB\u001b[0m \u001b[31m2.1 MB/s\u001b[0m eta \u001b[36m0:00:00\u001b[0m\n",
            "\u001b[?25h"
          ]
        }
      ],
      "source": [
        "# make sure to use the latest version of the openai python package\n",
        "!pip install --upgrade --quiet openai"
      ]
    },
    {
      "cell_type": "code",
      "execution_count": 20,
      "id": "6e1f4403-37e1-4115-a215-12fd7daa1eb6",
      "metadata": {
        "id": "6e1f4403-37e1-4115-a215-12fd7daa1eb6"
      },
      "outputs": [],
      "source": [
        "import json\n",
        "import openai\n",
        "import os\n",
        "import pandas as pd\n",
        "from pprint import pprint\n",
        "\n",
        "client = openai.OpenAI(\n",
        "    api_key=\"\", # Copy the key from the OpenAI Playground\n",
        ")"
      ]
    },
    {
      "cell_type": "markdown",
      "id": "a468d660",
      "metadata": {
        "id": "a468d660"
      },
      "source": [
        "Fine-tuning works best when focused on a particular domain. It's important to make sure your dataset is both focused enough for the model to learn, but general enough that unseen examples won't be missed. Having this in mind, we have extracted a subset from the RecipesNLG dataset to only contain documents from [cookbooks.com](https://cookbooks.com/).\n"
      ]
    },
    {
      "cell_type": "code",
      "execution_count": 45,
      "id": "f57ebc23-14b7-47f9-90b8-1d791ccfc9bc",
      "metadata": {
        "colab": {
          "base_uri": "https://localhost:8080/",
          "height": 724
        },
        "id": "f57ebc23-14b7-47f9-90b8-1d791ccfc9bc",
        "outputId": "92d55d4e-b9bf-43ee-fc0c-92d677740448"
      },
      "outputs": [
        {
          "output_type": "execute_result",
          "data": {
            "text/plain": [
              "         asin                                   url  \\\n",
              "0  B0CJHKVG6P  https://www.amazon.com/dp/B0CJHKVG6P   \n",
              "1  B0B66QHB23  https://www.amazon.com/dp/B0B66QHB23   \n",
              "2  B0BXRTWLYK  https://www.amazon.com/dp/B0BXRTWLYK   \n",
              "3  B0C1MRB2M8  https://www.amazon.com/dp/B0C1MRB2M8   \n",
              "4  B0CG1N9QRC  https://www.amazon.com/dp/B0CG1N9QRC   \n",
              "\n",
              "                                               title            brand   price  \\\n",
              "0  GOYMFK 1pc Free Standing Shoe Rack, Multi-laye...           GOYMFK  $24.99   \n",
              "1  subrtex Leather ding Room, Dining Chairs Set o...          subrtex     NaN   \n",
              "2  Plant Repotting Mat MUYETOL Waterproof Transpl...          MUYETOL   $5.98   \n",
              "3  Pickleball Doormat, Welcome Doormat Absorbent ...          VEWETOL  $13.99   \n",
              "4  JOIN IRON Foldable TV Trays for Eating Set of ...  JOIN IRON Store  $89.99   \n",
              "\n",
              "                          availability  \\\n",
              "0  Only 13 left in stock - order soon.   \n",
              "1                                  NaN   \n",
              "2                             In Stock   \n",
              "3  Only 10 left in stock - order soon.   \n",
              "4    Usually ships within 5 to 6 weeks   \n",
              "\n",
              "                                          categories  \\\n",
              "0  ['Home & Kitchen', 'Storage & Organization', '...   \n",
              "1  ['Home & Kitchen', 'Furniture', 'Dining Room F...   \n",
              "2  ['Patio, Lawn & Garden', 'Outdoor Décor', 'Doo...   \n",
              "3  ['Patio, Lawn & Garden', 'Outdoor Décor', 'Doo...   \n",
              "4  ['Home & Kitchen', 'Furniture', 'Game & Recrea...   \n",
              "\n",
              "                                       primary_image  \\\n",
              "0  https://m.media-amazon.com/images/I/416WaLx10j...   \n",
              "1  https://m.media-amazon.com/images/I/31SejUEWY7...   \n",
              "2  https://m.media-amazon.com/images/I/41RgefVq70...   \n",
              "3  https://m.media-amazon.com/images/I/61vz1Igler...   \n",
              "4  https://m.media-amazon.com/images/I/41p4d4VJnN...   \n",
              "\n",
              "                                              images  upc  ...          color  \\\n",
              "0  ['https://m.media-amazon.com/images/I/416WaLx1...  NaN  ...          White   \n",
              "1  ['https://m.media-amazon.com/images/I/31SejUEW...  NaN  ...          Black   \n",
              "2  ['https://m.media-amazon.com/images/I/41RgefVq...  NaN  ...          Green   \n",
              "3  ['https://m.media-amazon.com/images/I/61vz1Igl...  NaN  ...          A5589   \n",
              "4  ['https://m.media-amazon.com/images/I/41p4d4VJ...  NaN  ...  Grey Set of 4   \n",
              "\n",
              "       material              style important_information  \\\n",
              "0         Metal             Modern                    []   \n",
              "1        Sponge  Black Rubber Wood                    []   \n",
              "2  Polyethylene             Modern                    []   \n",
              "3        Rubber             Modern                    []   \n",
              "4          Iron    X Classic Style                    []   \n",
              "\n",
              "                                    product_overview  \\\n",
              "0  [{'Brand': ' GOYMFK '}, {'Color': ' White '}, ...   \n",
              "1                                                NaN   \n",
              "2  [{'Brand': ' MUYETOL '}, {'Size': ' 26.8*26.8 ...   \n",
              "3  [{'Brand': ' VEWETOL '}, {'Size': ' 16*24INCH ...   \n",
              "4                                                NaN   \n",
              "\n",
              "                                          about_item  \\\n",
              "0  ['Multiple layers: Provides ample storage spac...   \n",
              "1  ['【Easy Assembly】: Set of 2 dining room chairs...   \n",
              "2  ['PLANT REPOTTING MAT SIZE: 26.8\" x 26.8\", squ...   \n",
              "3  ['Specifications: 16x24 Inch ', \" High-Quality...   \n",
              "4  ['Includes 4 Folding Tv Tray Tables And one Co...   \n",
              "\n",
              "                                         description  \\\n",
              "0  multiple shoes, coats, hats, and other items E...   \n",
              "1                     subrtex Dining chairs Set of 2   \n",
              "2                                                NaN   \n",
              "3  The decorative doormat features a subtle textu...   \n",
              "4  Set of Four Folding Trays With Matching Storag...   \n",
              "\n",
              "                                      specifications  \\\n",
              "0  ['Brand: GOYMFK', 'Color: White', 'Material: M...   \n",
              "1  ['Brand: subrtex', 'Color: Black', 'Product Di...   \n",
              "2  ['Brand: MUYETOL', 'Size: 26.8*26.8', 'Item We...   \n",
              "3  ['Brand: VEWETOL', 'Size: 16*24INCH', 'Materia...   \n",
              "4  ['Brand: JOIN IRON', 'Shape: Rectangular', 'In...   \n",
              "\n",
              "                                uniq_id           scraped_at  \n",
              "0  02593e81-5c09-5069-8516-b0b29f439ded  2024-02-02 15:15:08  \n",
              "1  5938d217-b8c5-5d3e-b1cf-e28e340f292e  2024-02-02 15:15:09  \n",
              "2  b2ede786-3f51-5a45-9a5b-bcf856958cd8  2024-02-02 15:15:09  \n",
              "3  8fd9377b-cfa6-5f10-835c-6b8eca2816b5  2024-02-02 15:15:10  \n",
              "4  bdc9aa30-9439-50dc-8e89-213ea211d66a  2024-02-02 15:15:11  \n",
              "\n",
              "[5 rows x 25 columns]"
            ],
            "text/html": [
              "\n",
              "  <div id=\"df-b6c25c95-c6bb-4ec5-8e0d-d0273d0a0be6\" class=\"colab-df-container\">\n",
              "    <div>\n",
              "<style scoped>\n",
              "    .dataframe tbody tr th:only-of-type {\n",
              "        vertical-align: middle;\n",
              "    }\n",
              "\n",
              "    .dataframe tbody tr th {\n",
              "        vertical-align: top;\n",
              "    }\n",
              "\n",
              "    .dataframe thead th {\n",
              "        text-align: right;\n",
              "    }\n",
              "</style>\n",
              "<table border=\"1\" class=\"dataframe\">\n",
              "  <thead>\n",
              "    <tr style=\"text-align: right;\">\n",
              "      <th></th>\n",
              "      <th>asin</th>\n",
              "      <th>url</th>\n",
              "      <th>title</th>\n",
              "      <th>brand</th>\n",
              "      <th>price</th>\n",
              "      <th>availability</th>\n",
              "      <th>categories</th>\n",
              "      <th>primary_image</th>\n",
              "      <th>images</th>\n",
              "      <th>upc</th>\n",
              "      <th>...</th>\n",
              "      <th>color</th>\n",
              "      <th>material</th>\n",
              "      <th>style</th>\n",
              "      <th>important_information</th>\n",
              "      <th>product_overview</th>\n",
              "      <th>about_item</th>\n",
              "      <th>description</th>\n",
              "      <th>specifications</th>\n",
              "      <th>uniq_id</th>\n",
              "      <th>scraped_at</th>\n",
              "    </tr>\n",
              "  </thead>\n",
              "  <tbody>\n",
              "    <tr>\n",
              "      <th>0</th>\n",
              "      <td>B0CJHKVG6P</td>\n",
              "      <td>https://www.amazon.com/dp/B0CJHKVG6P</td>\n",
              "      <td>GOYMFK 1pc Free Standing Shoe Rack, Multi-laye...</td>\n",
              "      <td>GOYMFK</td>\n",
              "      <td>$24.99</td>\n",
              "      <td>Only 13 left in stock - order soon.</td>\n",
              "      <td>['Home &amp; Kitchen', 'Storage &amp; Organization', '...</td>\n",
              "      <td>https://m.media-amazon.com/images/I/416WaLx10j...</td>\n",
              "      <td>['https://m.media-amazon.com/images/I/416WaLx1...</td>\n",
              "      <td>NaN</td>\n",
              "      <td>...</td>\n",
              "      <td>White</td>\n",
              "      <td>Metal</td>\n",
              "      <td>Modern</td>\n",
              "      <td>[]</td>\n",
              "      <td>[{'Brand': ' GOYMFK '}, {'Color': ' White '}, ...</td>\n",
              "      <td>['Multiple layers: Provides ample storage spac...</td>\n",
              "      <td>multiple shoes, coats, hats, and other items E...</td>\n",
              "      <td>['Brand: GOYMFK', 'Color: White', 'Material: M...</td>\n",
              "      <td>02593e81-5c09-5069-8516-b0b29f439ded</td>\n",
              "      <td>2024-02-02 15:15:08</td>\n",
              "    </tr>\n",
              "    <tr>\n",
              "      <th>1</th>\n",
              "      <td>B0B66QHB23</td>\n",
              "      <td>https://www.amazon.com/dp/B0B66QHB23</td>\n",
              "      <td>subrtex Leather ding Room, Dining Chairs Set o...</td>\n",
              "      <td>subrtex</td>\n",
              "      <td>NaN</td>\n",
              "      <td>NaN</td>\n",
              "      <td>['Home &amp; Kitchen', 'Furniture', 'Dining Room F...</td>\n",
              "      <td>https://m.media-amazon.com/images/I/31SejUEWY7...</td>\n",
              "      <td>['https://m.media-amazon.com/images/I/31SejUEW...</td>\n",
              "      <td>NaN</td>\n",
              "      <td>...</td>\n",
              "      <td>Black</td>\n",
              "      <td>Sponge</td>\n",
              "      <td>Black Rubber Wood</td>\n",
              "      <td>[]</td>\n",
              "      <td>NaN</td>\n",
              "      <td>['【Easy Assembly】: Set of 2 dining room chairs...</td>\n",
              "      <td>subrtex Dining chairs Set of 2</td>\n",
              "      <td>['Brand: subrtex', 'Color: Black', 'Product Di...</td>\n",
              "      <td>5938d217-b8c5-5d3e-b1cf-e28e340f292e</td>\n",
              "      <td>2024-02-02 15:15:09</td>\n",
              "    </tr>\n",
              "    <tr>\n",
              "      <th>2</th>\n",
              "      <td>B0BXRTWLYK</td>\n",
              "      <td>https://www.amazon.com/dp/B0BXRTWLYK</td>\n",
              "      <td>Plant Repotting Mat MUYETOL Waterproof Transpl...</td>\n",
              "      <td>MUYETOL</td>\n",
              "      <td>$5.98</td>\n",
              "      <td>In Stock</td>\n",
              "      <td>['Patio, Lawn &amp; Garden', 'Outdoor Décor', 'Doo...</td>\n",
              "      <td>https://m.media-amazon.com/images/I/41RgefVq70...</td>\n",
              "      <td>['https://m.media-amazon.com/images/I/41RgefVq...</td>\n",
              "      <td>NaN</td>\n",
              "      <td>...</td>\n",
              "      <td>Green</td>\n",
              "      <td>Polyethylene</td>\n",
              "      <td>Modern</td>\n",
              "      <td>[]</td>\n",
              "      <td>[{'Brand': ' MUYETOL '}, {'Size': ' 26.8*26.8 ...</td>\n",
              "      <td>['PLANT REPOTTING MAT SIZE: 26.8\" x 26.8\", squ...</td>\n",
              "      <td>NaN</td>\n",
              "      <td>['Brand: MUYETOL', 'Size: 26.8*26.8', 'Item We...</td>\n",
              "      <td>b2ede786-3f51-5a45-9a5b-bcf856958cd8</td>\n",
              "      <td>2024-02-02 15:15:09</td>\n",
              "    </tr>\n",
              "    <tr>\n",
              "      <th>3</th>\n",
              "      <td>B0C1MRB2M8</td>\n",
              "      <td>https://www.amazon.com/dp/B0C1MRB2M8</td>\n",
              "      <td>Pickleball Doormat, Welcome Doormat Absorbent ...</td>\n",
              "      <td>VEWETOL</td>\n",
              "      <td>$13.99</td>\n",
              "      <td>Only 10 left in stock - order soon.</td>\n",
              "      <td>['Patio, Lawn &amp; Garden', 'Outdoor Décor', 'Doo...</td>\n",
              "      <td>https://m.media-amazon.com/images/I/61vz1Igler...</td>\n",
              "      <td>['https://m.media-amazon.com/images/I/61vz1Igl...</td>\n",
              "      <td>NaN</td>\n",
              "      <td>...</td>\n",
              "      <td>A5589</td>\n",
              "      <td>Rubber</td>\n",
              "      <td>Modern</td>\n",
              "      <td>[]</td>\n",
              "      <td>[{'Brand': ' VEWETOL '}, {'Size': ' 16*24INCH ...</td>\n",
              "      <td>['Specifications: 16x24 Inch ', \" High-Quality...</td>\n",
              "      <td>The decorative doormat features a subtle textu...</td>\n",
              "      <td>['Brand: VEWETOL', 'Size: 16*24INCH', 'Materia...</td>\n",
              "      <td>8fd9377b-cfa6-5f10-835c-6b8eca2816b5</td>\n",
              "      <td>2024-02-02 15:15:10</td>\n",
              "    </tr>\n",
              "    <tr>\n",
              "      <th>4</th>\n",
              "      <td>B0CG1N9QRC</td>\n",
              "      <td>https://www.amazon.com/dp/B0CG1N9QRC</td>\n",
              "      <td>JOIN IRON Foldable TV Trays for Eating Set of ...</td>\n",
              "      <td>JOIN IRON Store</td>\n",
              "      <td>$89.99</td>\n",
              "      <td>Usually ships within 5 to 6 weeks</td>\n",
              "      <td>['Home &amp; Kitchen', 'Furniture', 'Game &amp; Recrea...</td>\n",
              "      <td>https://m.media-amazon.com/images/I/41p4d4VJnN...</td>\n",
              "      <td>['https://m.media-amazon.com/images/I/41p4d4VJ...</td>\n",
              "      <td>NaN</td>\n",
              "      <td>...</td>\n",
              "      <td>Grey Set of 4</td>\n",
              "      <td>Iron</td>\n",
              "      <td>X Classic Style</td>\n",
              "      <td>[]</td>\n",
              "      <td>NaN</td>\n",
              "      <td>['Includes 4 Folding Tv Tray Tables And one Co...</td>\n",
              "      <td>Set of Four Folding Trays With Matching Storag...</td>\n",
              "      <td>['Brand: JOIN IRON', 'Shape: Rectangular', 'In...</td>\n",
              "      <td>bdc9aa30-9439-50dc-8e89-213ea211d66a</td>\n",
              "      <td>2024-02-02 15:15:11</td>\n",
              "    </tr>\n",
              "  </tbody>\n",
              "</table>\n",
              "<p>5 rows × 25 columns</p>\n",
              "</div>\n",
              "    <div class=\"colab-df-buttons\">\n",
              "\n",
              "  <div class=\"colab-df-container\">\n",
              "    <button class=\"colab-df-convert\" onclick=\"convertToInteractive('df-b6c25c95-c6bb-4ec5-8e0d-d0273d0a0be6')\"\n",
              "            title=\"Convert this dataframe to an interactive table.\"\n",
              "            style=\"display:none;\">\n",
              "\n",
              "  <svg xmlns=\"http://www.w3.org/2000/svg\" height=\"24px\" viewBox=\"0 -960 960 960\">\n",
              "    <path d=\"M120-120v-720h720v720H120Zm60-500h600v-160H180v160Zm220 220h160v-160H400v160Zm0 220h160v-160H400v160ZM180-400h160v-160H180v160Zm440 0h160v-160H620v160ZM180-180h160v-160H180v160Zm440 0h160v-160H620v160Z\"/>\n",
              "  </svg>\n",
              "    </button>\n",
              "\n",
              "  <style>\n",
              "    .colab-df-container {\n",
              "      display:flex;\n",
              "      gap: 12px;\n",
              "    }\n",
              "\n",
              "    .colab-df-convert {\n",
              "      background-color: #E8F0FE;\n",
              "      border: none;\n",
              "      border-radius: 50%;\n",
              "      cursor: pointer;\n",
              "      display: none;\n",
              "      fill: #1967D2;\n",
              "      height: 32px;\n",
              "      padding: 0 0 0 0;\n",
              "      width: 32px;\n",
              "    }\n",
              "\n",
              "    .colab-df-convert:hover {\n",
              "      background-color: #E2EBFA;\n",
              "      box-shadow: 0px 1px 2px rgba(60, 64, 67, 0.3), 0px 1px 3px 1px rgba(60, 64, 67, 0.15);\n",
              "      fill: #174EA6;\n",
              "    }\n",
              "\n",
              "    .colab-df-buttons div {\n",
              "      margin-bottom: 4px;\n",
              "    }\n",
              "\n",
              "    [theme=dark] .colab-df-convert {\n",
              "      background-color: #3B4455;\n",
              "      fill: #D2E3FC;\n",
              "    }\n",
              "\n",
              "    [theme=dark] .colab-df-convert:hover {\n",
              "      background-color: #434B5C;\n",
              "      box-shadow: 0px 1px 3px 1px rgba(0, 0, 0, 0.15);\n",
              "      filter: drop-shadow(0px 1px 2px rgba(0, 0, 0, 0.3));\n",
              "      fill: #FFFFFF;\n",
              "    }\n",
              "  </style>\n",
              "\n",
              "    <script>\n",
              "      const buttonEl =\n",
              "        document.querySelector('#df-b6c25c95-c6bb-4ec5-8e0d-d0273d0a0be6 button.colab-df-convert');\n",
              "      buttonEl.style.display =\n",
              "        google.colab.kernel.accessAllowed ? 'block' : 'none';\n",
              "\n",
              "      async function convertToInteractive(key) {\n",
              "        const element = document.querySelector('#df-b6c25c95-c6bb-4ec5-8e0d-d0273d0a0be6');\n",
              "        const dataTable =\n",
              "          await google.colab.kernel.invokeFunction('convertToInteractive',\n",
              "                                                    [key], {});\n",
              "        if (!dataTable) return;\n",
              "\n",
              "        const docLinkHtml = 'Like what you see? Visit the ' +\n",
              "          '<a target=\"_blank\" href=https://colab.research.google.com/notebooks/data_table.ipynb>data table notebook</a>'\n",
              "          + ' to learn more about interactive tables.';\n",
              "        element.innerHTML = '';\n",
              "        dataTable['output_type'] = 'display_data';\n",
              "        await google.colab.output.renderOutput(dataTable, element);\n",
              "        const docLink = document.createElement('div');\n",
              "        docLink.innerHTML = docLinkHtml;\n",
              "        element.appendChild(docLink);\n",
              "      }\n",
              "    </script>\n",
              "  </div>\n",
              "\n",
              "\n",
              "<div id=\"df-625fe7be-4ca6-455f-a513-440a1f5971a8\">\n",
              "  <button class=\"colab-df-quickchart\" onclick=\"quickchart('df-625fe7be-4ca6-455f-a513-440a1f5971a8')\"\n",
              "            title=\"Suggest charts\"\n",
              "            style=\"display:none;\">\n",
              "\n",
              "<svg xmlns=\"http://www.w3.org/2000/svg\" height=\"24px\"viewBox=\"0 0 24 24\"\n",
              "     width=\"24px\">\n",
              "    <g>\n",
              "        <path d=\"M19 3H5c-1.1 0-2 .9-2 2v14c0 1.1.9 2 2 2h14c1.1 0 2-.9 2-2V5c0-1.1-.9-2-2-2zM9 17H7v-7h2v7zm4 0h-2V7h2v10zm4 0h-2v-4h2v4z\"/>\n",
              "    </g>\n",
              "</svg>\n",
              "  </button>\n",
              "\n",
              "<style>\n",
              "  .colab-df-quickchart {\n",
              "      --bg-color: #E8F0FE;\n",
              "      --fill-color: #1967D2;\n",
              "      --hover-bg-color: #E2EBFA;\n",
              "      --hover-fill-color: #174EA6;\n",
              "      --disabled-fill-color: #AAA;\n",
              "      --disabled-bg-color: #DDD;\n",
              "  }\n",
              "\n",
              "  [theme=dark] .colab-df-quickchart {\n",
              "      --bg-color: #3B4455;\n",
              "      --fill-color: #D2E3FC;\n",
              "      --hover-bg-color: #434B5C;\n",
              "      --hover-fill-color: #FFFFFF;\n",
              "      --disabled-bg-color: #3B4455;\n",
              "      --disabled-fill-color: #666;\n",
              "  }\n",
              "\n",
              "  .colab-df-quickchart {\n",
              "    background-color: var(--bg-color);\n",
              "    border: none;\n",
              "    border-radius: 50%;\n",
              "    cursor: pointer;\n",
              "    display: none;\n",
              "    fill: var(--fill-color);\n",
              "    height: 32px;\n",
              "    padding: 0;\n",
              "    width: 32px;\n",
              "  }\n",
              "\n",
              "  .colab-df-quickchart:hover {\n",
              "    background-color: var(--hover-bg-color);\n",
              "    box-shadow: 0 1px 2px rgba(60, 64, 67, 0.3), 0 1px 3px 1px rgba(60, 64, 67, 0.15);\n",
              "    fill: var(--button-hover-fill-color);\n",
              "  }\n",
              "\n",
              "  .colab-df-quickchart-complete:disabled,\n",
              "  .colab-df-quickchart-complete:disabled:hover {\n",
              "    background-color: var(--disabled-bg-color);\n",
              "    fill: var(--disabled-fill-color);\n",
              "    box-shadow: none;\n",
              "  }\n",
              "\n",
              "  .colab-df-spinner {\n",
              "    border: 2px solid var(--fill-color);\n",
              "    border-color: transparent;\n",
              "    border-bottom-color: var(--fill-color);\n",
              "    animation:\n",
              "      spin 1s steps(1) infinite;\n",
              "  }\n",
              "\n",
              "  @keyframes spin {\n",
              "    0% {\n",
              "      border-color: transparent;\n",
              "      border-bottom-color: var(--fill-color);\n",
              "      border-left-color: var(--fill-color);\n",
              "    }\n",
              "    20% {\n",
              "      border-color: transparent;\n",
              "      border-left-color: var(--fill-color);\n",
              "      border-top-color: var(--fill-color);\n",
              "    }\n",
              "    30% {\n",
              "      border-color: transparent;\n",
              "      border-left-color: var(--fill-color);\n",
              "      border-top-color: var(--fill-color);\n",
              "      border-right-color: var(--fill-color);\n",
              "    }\n",
              "    40% {\n",
              "      border-color: transparent;\n",
              "      border-right-color: var(--fill-color);\n",
              "      border-top-color: var(--fill-color);\n",
              "    }\n",
              "    60% {\n",
              "      border-color: transparent;\n",
              "      border-right-color: var(--fill-color);\n",
              "    }\n",
              "    80% {\n",
              "      border-color: transparent;\n",
              "      border-right-color: var(--fill-color);\n",
              "      border-bottom-color: var(--fill-color);\n",
              "    }\n",
              "    90% {\n",
              "      border-color: transparent;\n",
              "      border-bottom-color: var(--fill-color);\n",
              "    }\n",
              "  }\n",
              "</style>\n",
              "\n",
              "  <script>\n",
              "    async function quickchart(key) {\n",
              "      const quickchartButtonEl =\n",
              "        document.querySelector('#' + key + ' button');\n",
              "      quickchartButtonEl.disabled = true;  // To prevent multiple clicks.\n",
              "      quickchartButtonEl.classList.add('colab-df-spinner');\n",
              "      try {\n",
              "        const charts = await google.colab.kernel.invokeFunction(\n",
              "            'suggestCharts', [key], {});\n",
              "      } catch (error) {\n",
              "        console.error('Error during call to suggestCharts:', error);\n",
              "      }\n",
              "      quickchartButtonEl.classList.remove('colab-df-spinner');\n",
              "      quickchartButtonEl.classList.add('colab-df-quickchart-complete');\n",
              "    }\n",
              "    (() => {\n",
              "      let quickchartButtonEl =\n",
              "        document.querySelector('#df-625fe7be-4ca6-455f-a513-440a1f5971a8 button');\n",
              "      quickchartButtonEl.style.display =\n",
              "        google.colab.kernel.accessAllowed ? 'block' : 'none';\n",
              "    })();\n",
              "  </script>\n",
              "</div>\n",
              "\n",
              "    </div>\n",
              "  </div>\n"
            ],
            "application/vnd.google.colaboratory.intrinsic+json": {
              "type": "dataframe",
              "variable_name": "data_df"
            }
          },
          "metadata": {},
          "execution_count": 45
        }
      ],
      "source": [
        "# Read in the dataset we'll use for this task.\n",
        "# This will be the RecipesNLG dataset, which we've cleaned to only contain documents from www.cookbooks.com\n",
        "\n",
        "# Choose a relevant dataset from https://github.com/openai/openai-cookbook/tree/main/examples/data and fill in the name of that dataset without csv\n",
        "\n",
        "dataset_name = \"amazon_furniture_dataset\"\n",
        "\n",
        "url = f\"https://github.com/openai/openai-cookbook/blob/main/examples/data/{dataset_name}.csv?raw=true\"\n",
        "\n",
        "data_df = pd.read_csv(url)\n",
        "\n",
        "data_df.head()"
      ]
    },
    {
      "cell_type": "markdown",
      "id": "2b3151e9-8715-47bd-a153-195d6a0d0a70",
      "metadata": {
        "id": "2b3151e9-8715-47bd-a153-195d6a0d0a70"
      },
      "source": [
        "## Data preparation\n",
        "\n",
        "We'll begin by preparing our data. When fine-tuning with the `ChatCompletion` format, each training example is a simple list of `messages`. For example, an entry could look like:\n",
        "\n",
        "```\n",
        "[{'role': 'system',\n",
        "  'content': 'You are a helpful recipe assistant. You are to extract the generic ingredients from each of the recipes provided.'},\n",
        "\n",
        " {'role': 'user',\n",
        "  'content': 'Title: No-Bake Nut Cookies\\n\\nIngredients: [\"1 c. firmly packed brown sugar\", \"1/2 c. evaporated milk\", \"1/2 tsp. vanilla\", \"1/2 c. broken nuts (pecans)\", \"2 Tbsp. butter or margarine\", \"3 1/2 c. bite size shredded rice biscuits\"]\\n\\nGeneric ingredients: '},\n",
        "\n",
        " {'role': 'assistant',\n",
        "  'content': '[\"brown sugar\", \"milk\", \"vanilla\", \"nuts\", \"butter\", \"bite size shredded rice biscuits\"]'}]\n",
        "```\n",
        "\n",
        "During the training process this conversation will be split, with the final entry being the `completion` that the model will produce, and the remainder of the `messages` acting as the prompt. Consider this when building your training examples - if your model will act on multi-turn conversations, then please provide representative examples so it doesn't perform poorly when the conversation starts to expand.\n",
        "\n",
        "Please note that currently there is a 4096 token limit for each training example. Anything longer than this will be truncated at 4096 tokens.\n"
      ]
    },
    {
      "cell_type": "code",
      "execution_count": 11,
      "id": "9a8216b0-d1dc-472d-b07d-1be03acd70a5",
      "metadata": {
        "colab": {
          "base_uri": "https://localhost:8080/"
        },
        "id": "9a8216b0-d1dc-472d-b07d-1be03acd70a5",
        "outputId": "698943f5-26b6-41be-cd0e-c859b13530c6"
      },
      "outputs": [
        {
          "output_type": "stream",
          "name": "stdout",
          "text": [
            "{'messages': [{'content': 'You are a helpful categorization assistant. You are '\n",
            "                          'to extract the generic categories from each of the '\n",
            "                          'product titles and description provided.',\n",
            "               'role': 'system'},\n",
            "              {'content': 'Title: GOYMFK 1pc Free Standing Shoe Rack, '\n",
            "                          'Multi-layer Metal Shoe Cap Rack With 8 Double Hooks '\n",
            "                          'For Living Room, Bathroom, Hallway\\n'\n",
            "                          '\\n'\n",
            "                          'Description: multiple shoes, coats, hats, and other '\n",
            "                          'items Easy to assemble: Includes all necessary '\n",
            "                          'hardware and instructions for easy assembly '\n",
            "                          'Versatile: Perfect for use in living rooms, '\n",
            "                          'bathrooms, hallways, and more\\n'\n",
            "                          '\\n'\n",
            "                          'Generic categories: ',\n",
            "               'role': 'user'},\n",
            "              {'content': \"['Home & Kitchen', 'Storage & Organization', \"\n",
            "                          \"'Clothing & Closet Storage', 'Shoe Organizers', \"\n",
            "                          \"'Free Standing Shoe Racks']\",\n",
            "               'role': 'assistant'}]}\n"
          ]
        }
      ],
      "source": [
        "## Give the assistant a relevent role for the cookbook\n",
        "# Example: system_message = \"You are a helpful recipe assistant. You are to extract the generic ingredients from each of the recipes provided.\"\n",
        "\n",
        "system_message = \"You are a helpful categorization assistant. You are to extract the generic categories from each of the product titles and description provided.\"\n",
        "\n",
        "# If neccessary change the title, description and Generic categories\n",
        "def create_user_message(row):\n",
        "    # Example: return f\"Title: {row['title']}\\n\\nIngredients: {row['ingredients']}\\n\\nGeneric ingredients: \"\n",
        "    return f\"Title: {row['title']}\\n\\nDescription: {row['description']}\\n\\nGeneric categories:\"\n",
        "\n",
        "\n",
        "def prepare_example_conversation(row):\n",
        "    return {\n",
        "        \"messages\": [\n",
        "            {\"role\": \"system\", \"content\": system_message},\n",
        "            {\"role\": \"user\", \"content\": create_user_message(row)},\n",
        "            # Example: {\"role\": \"assistant\", \"content\": row[\"NER\"]},\n",
        "            {\"role\": \"assistant\", \"content\": row[\"categories\"]}, # Change the expected output column\n",
        "\n",
        "        ]\n",
        "    }\n",
        "\n",
        "\n",
        "pprint(prepare_example_conversation(data_df.iloc[0]))"
      ]
    },
    {
      "cell_type": "markdown",
      "id": "82fa4fae",
      "metadata": {
        "id": "82fa4fae"
      },
      "source": [
        "Let's now do this for a subset of the dataset to use as our training data. You can begin with even 30-50 well-pruned examples. You should see performance continue to scale linearly as you increase the size of the training set, but your jobs will also take longer.\n"
      ]
    },
    {
      "cell_type": "code",
      "execution_count": 12,
      "id": "8f37aff9",
      "metadata": {
        "colab": {
          "base_uri": "https://localhost:8080/"
        },
        "id": "8f37aff9",
        "outputId": "cf51ee35-113b-4aea-a9e1-05a03a201a40"
      },
      "outputs": [
        {
          "output_type": "stream",
          "name": "stdout",
          "text": [
            "{'messages': [{'role': 'system', 'content': 'You are a helpful categorization assistant. You are to extract the generic categories from each of the product titles and description provided.'}, {'role': 'user', 'content': 'Title: GOYMFK 1pc Free Standing Shoe Rack, Multi-layer Metal Shoe Cap Rack With 8 Double Hooks For Living Room, Bathroom, Hallway\\n\\nDescription: multiple shoes, coats, hats, and other items Easy to assemble: Includes all necessary hardware and instructions for easy assembly Versatile: Perfect for use in living rooms, bathrooms, hallways, and more\\n\\nGeneric categories: '}, {'role': 'assistant', 'content': \"['Home & Kitchen', 'Storage & Organization', 'Clothing & Closet Storage', 'Shoe Organizers', 'Free Standing Shoe Racks']\"}]}\n",
            "{'messages': [{'role': 'system', 'content': 'You are a helpful categorization assistant. You are to extract the generic categories from each of the product titles and description provided.'}, {'role': 'user', 'content': 'Title: subrtex Leather ding Room, Dining Chairs Set of 2, Black\\n\\nDescription: subrtex Dining chairs Set of 2\\n\\nGeneric categories: '}, {'role': 'assistant', 'content': \"['Home & Kitchen', 'Furniture', 'Dining Room Furniture', 'Chairs']\"}]}\n",
            "{'messages': [{'role': 'system', 'content': 'You are a helpful categorization assistant. You are to extract the generic categories from each of the product titles and description provided.'}, {'role': 'user', 'content': 'Title: Plant Repotting Mat MUYETOL Waterproof Transplanting Mat Indoor 26.8\" x 26.8\" Portable Square Foldable Easy to Clean Gardening Work Mat Soil Changing Mat Succulent Plant Transplanting Mat Garden Gifts\\n\\nDescription: nan\\n\\nGeneric categories: '}, {'role': 'assistant', 'content': \"['Patio, Lawn & Garden', 'Outdoor Décor', 'Doormats']\"}]}\n",
            "{'messages': [{'role': 'system', 'content': 'You are a helpful categorization assistant. You are to extract the generic categories from each of the product titles and description provided.'}, {'role': 'user', 'content': 'Title: Pickleball Doormat, Welcome Doormat Absorbent Non-Slip Floor Mat Bathroom Mat 16x24\\n\\nDescription: The decorative doormat features a subtle textured surface that absorbs moisture and helps remove dirt and debris from your shoes.Molded from recycled rubber with a coarse polyester surface, this door mat offers added functionality for your entryways exposed to the elements.The low-profile height offers ideal functionality for high traffic areas and in entryways as it will not obstruct doors from opening or closing.Simply vacuum, shake out, or sweep off debris, spot clean with a solution of mild detergent and water. Do not bleach. Air dry. Dry flat.Greet your guests with this stylish and durable doormat. Perfect for any entryway in your home and Airbnb properties.We provide 100% 0 risk purchase, we promise the best service, if you have any question about our product, please contact us , we will reply by e-mail within 24 hours.\\n\\nGeneric categories: '}, {'role': 'assistant', 'content': \"['Patio, Lawn & Garden', 'Outdoor Décor', 'Doormats']\"}]}\n",
            "{'messages': [{'role': 'system', 'content': 'You are a helpful categorization assistant. You are to extract the generic categories from each of the product titles and description provided.'}, {'role': 'user', 'content': 'Title: JOIN IRON Foldable TV Trays for Eating Set of 4 with Stand,Folding TV/Snack Tray Table Set,Folding TV Dinner Tables for Small Space,(Grey)\\n\\nDescription: Set of Four Folding Trays With Matching Storage Rack.\\n\\nGeneric categories: '}, {'role': 'assistant', 'content': \"['Home & Kitchen', 'Furniture', 'Game & Recreation Room Furniture', 'TV Trays']\"}]}\n"
          ]
        }
      ],
      "source": [
        "# use the first 100 rows of the dataset for training\n",
        "training_df = data_df.loc[0:100]\n",
        "\n",
        "# apply the prepare_example_conversation function to each row of the training_df\n",
        "training_data = training_df.apply(prepare_example_conversation, axis=1).tolist()\n",
        "\n",
        "for example in training_data[:5]:\n",
        "    print(example)"
      ]
    },
    {
      "cell_type": "markdown",
      "id": "6fb0f6a7",
      "metadata": {
        "id": "6fb0f6a7"
      },
      "source": [
        "In addition to training data, we can also **optionally** provide validation data, which will be used to make sure that the model does not overfit your training set.\n"
      ]
    },
    {
      "cell_type": "code",
      "execution_count": 13,
      "id": "5b853efa-dfea-4770-ab88-9b7e17794421",
      "metadata": {
        "id": "5b853efa-dfea-4770-ab88-9b7e17794421"
      },
      "outputs": [],
      "source": [
        "validation_df = data_df.loc[101:200]\n",
        "validation_data = validation_df.apply(\n",
        "    prepare_example_conversation, axis=1).tolist()"
      ]
    },
    {
      "cell_type": "markdown",
      "id": "1d5e7bfe-f6c8-4a23-a951-3df3f3791d7f",
      "metadata": {
        "id": "1d5e7bfe-f6c8-4a23-a951-3df3f3791d7f"
      },
      "source": [
        "We then need to save our data as `.jsonl` files, with each line being one training example conversation.\n"
      ]
    },
    {
      "cell_type": "code",
      "execution_count": 14,
      "id": "8d2eb207-2c2b-43f6-a613-64a7e92d494d",
      "metadata": {
        "id": "8d2eb207-2c2b-43f6-a613-64a7e92d494d"
      },
      "outputs": [],
      "source": [
        "def write_jsonl(data_list: list, filename: str) -> None:\n",
        "    with open(filename, \"w\") as out:\n",
        "        for ddict in data_list:\n",
        "            jout = json.dumps(ddict) + \"\\n\"\n",
        "            out.write(jout)"
      ]
    },
    {
      "cell_type": "code",
      "execution_count": 15,
      "id": "8b53e7a2-1cac-4c5f-8ba4-3292ba2a0770",
      "metadata": {
        "id": "8b53e7a2-1cac-4c5f-8ba4-3292ba2a0770"
      },
      "outputs": [],
      "source": [
        "# Change the name of your json files to avoid naming conflicts\n",
        "\n",
        "training_file_name = \"tmp_descr_finetune_training.jsonl\"\n",
        "write_jsonl(training_data, training_file_name)\n",
        "\n",
        "validation_file_name = \"tmp_descr_finetune_validation.jsonl\"\n",
        "write_jsonl(validation_data, validation_file_name)"
      ]
    },
    {
      "cell_type": "markdown",
      "id": "80b274a3",
      "metadata": {
        "id": "80b274a3"
      },
      "source": [
        "This is what the first 5 lines of our training `.jsonl` file look like:\n"
      ]
    },
    {
      "cell_type": "code",
      "execution_count": 16,
      "id": "283c4ec2",
      "metadata": {
        "colab": {
          "base_uri": "https://localhost:8080/"
        },
        "id": "283c4ec2",
        "outputId": "fd855c9d-0ff9-4580-f49e-497b1631081a"
      },
      "outputs": [
        {
          "output_type": "stream",
          "name": "stdout",
          "text": [
            "{\"messages\": [{\"role\": \"system\", \"content\": \"You are a helpful categorization assistant. You are to extract the generic categories from each of the product titles and description provided.\"}, {\"role\": \"user\", \"content\": \"Title: GOYMFK 1pc Free Standing Shoe Rack, Multi-layer Metal Shoe Cap Rack With 8 Double Hooks For Living Room, Bathroom, Hallway\\n\\nDescription: multiple shoes, coats, hats, and other items Easy to assemble: Includes all necessary hardware and instructions for easy assembly Versatile: Perfect for use in living rooms, bathrooms, hallways, and more\\n\\nGeneric categories: \"}, {\"role\": \"assistant\", \"content\": \"['Home & Kitchen', 'Storage & Organization', 'Clothing & Closet Storage', 'Shoe Organizers', 'Free Standing Shoe Racks']\"}]}\n",
            "{\"messages\": [{\"role\": \"system\", \"content\": \"You are a helpful categorization assistant. You are to extract the generic categories from each of the product titles and description provided.\"}, {\"role\": \"user\", \"content\": \"Title: subrtex Leather ding Room, Dining Chairs Set of 2, Black\\n\\nDescription: subrtex Dining chairs Set of 2\\n\\nGeneric categories: \"}, {\"role\": \"assistant\", \"content\": \"['Home & Kitchen', 'Furniture', 'Dining Room Furniture', 'Chairs']\"}]}\n",
            "{\"messages\": [{\"role\": \"system\", \"content\": \"You are a helpful categorization assistant. You are to extract the generic categories from each of the product titles and description provided.\"}, {\"role\": \"user\", \"content\": \"Title: Plant Repotting Mat MUYETOL Waterproof Transplanting Mat Indoor 26.8\\\" x 26.8\\\" Portable Square Foldable Easy to Clean Gardening Work Mat Soil Changing Mat Succulent Plant Transplanting Mat Garden Gifts\\n\\nDescription: nan\\n\\nGeneric categories: \"}, {\"role\": \"assistant\", \"content\": \"['Patio, Lawn & Garden', 'Outdoor D\\u00e9cor', 'Doormats']\"}]}\n",
            "{\"messages\": [{\"role\": \"system\", \"content\": \"You are a helpful categorization assistant. You are to extract the generic categories from each of the product titles and description provided.\"}, {\"role\": \"user\", \"content\": \"Title: Pickleball Doormat, Welcome Doormat Absorbent Non-Slip Floor Mat Bathroom Mat 16x24\\n\\nDescription: The decorative doormat features a subtle textured surface that absorbs moisture and helps remove dirt and debris from your shoes.Molded from recycled rubber with a coarse polyester surface, this door mat offers added functionality for your entryways exposed to the elements.The low-profile height offers ideal functionality for high traffic areas and in entryways as it will not obstruct doors from opening or closing.Simply vacuum, shake out, or sweep off debris, spot clean with a solution of mild detergent and water. Do not bleach. Air dry. Dry flat.Greet your guests with this stylish and durable doormat. Perfect for any entryway in your home and Airbnb properties.We provide 100% 0 risk purchase, we promise the best service, if you have any question about our product, please contact us , we will reply by e-mail within 24 hours.\\n\\nGeneric categories: \"}, {\"role\": \"assistant\", \"content\": \"['Patio, Lawn & Garden', 'Outdoor D\\u00e9cor', 'Doormats']\"}]}\n",
            "{\"messages\": [{\"role\": \"system\", \"content\": \"You are a helpful categorization assistant. You are to extract the generic categories from each of the product titles and description provided.\"}, {\"role\": \"user\", \"content\": \"Title: JOIN IRON Foldable TV Trays for Eating Set of 4 with Stand,Folding TV/Snack Tray Table Set,Folding TV Dinner Tables for Small Space,(Grey)\\n\\nDescription: Set of Four Folding Trays With Matching Storage Rack.\\n\\nGeneric categories: \"}, {\"role\": \"assistant\", \"content\": \"['Home & Kitchen', 'Furniture', 'Game & Recreation Room Furniture', 'TV Trays']\"}]}\n"
          ]
        }
      ],
      "source": [
        "# print the first 5 lines of the training file\n",
        "!head -n 5 tmp_recipe_finetune_training.jsonl"
      ]
    },
    {
      "cell_type": "markdown",
      "id": "0d149e2e-50dd-45c1-bd8d-1291975670b4",
      "metadata": {
        "id": "0d149e2e-50dd-45c1-bd8d-1291975670b4"
      },
      "source": [
        "### Upload files\n",
        "\n",
        "You can now upload the files to our `Files` endpoint to be used by the fine-tuned model.\n"
      ]
    },
    {
      "cell_type": "code",
      "execution_count": 21,
      "id": "69462d9e-e6bd-49b9-a064-9eae4ea5b7a8",
      "metadata": {
        "colab": {
          "base_uri": "https://localhost:8080/"
        },
        "id": "69462d9e-e6bd-49b9-a064-9eae4ea5b7a8",
        "outputId": "b2af6ce4-1cc1-45de-b9d0-2d7347ac5b52"
      },
      "outputs": [
        {
          "output_type": "stream",
          "name": "stdout",
          "text": [
            "Training file ID: file-EzRnuheLBWyq4P5yEN94VikR\n",
            "Validation file ID: file-474YUYovag3Ddv1h2YLs6AGa\n"
          ]
        }
      ],
      "source": [
        "def upload_file(file_name: str, purpose: str) -> str:\n",
        "    with open(file_name, \"rb\") as file_fd:\n",
        "        response = client.files.create(file=file_fd, purpose=purpose)\n",
        "    return response.id\n",
        "\n",
        "\n",
        "training_file_id = upload_file(training_file_name, \"fine-tune\")\n",
        "validation_file_id = upload_file(validation_file_name, \"fine-tune\")\n",
        "\n",
        "print(\"Training file ID:\", training_file_id)\n",
        "print(\"Validation file ID:\", validation_file_id)"
      ]
    },
    {
      "cell_type": "markdown",
      "id": "d61cd381-63ad-4ed9-b0be-47a438891028",
      "metadata": {
        "id": "d61cd381-63ad-4ed9-b0be-47a438891028"
      },
      "source": [
        "## Fine-tuning\n",
        "\n",
        "Now we can create our fine-tuning job with the generated files and an optional suffix to identify the model. The response will contain an `id` which you can use to retrieve updates on the job.\n",
        "\n",
        "Note: The files have to first be processed by our system, so you might get a `File not ready` error. In that case, simply retry a few minutes later.\n"
      ]
    },
    {
      "cell_type": "code",
      "execution_count": 22,
      "id": "05541ceb-5628-447e-962d-7e57c112439c",
      "metadata": {
        "colab": {
          "base_uri": "https://localhost:8080/"
        },
        "id": "05541ceb-5628-447e-962d-7e57c112439c",
        "outputId": "3c2ab58f-5eff-4ede-b9d2-666846f1be87"
      },
      "outputs": [
        {
          "output_type": "stream",
          "name": "stdout",
          "text": [
            "Job ID: ftjob-6b65dk9Gghhj6DR3xTQ8jtRJ\n",
            "Status: validating_files\n"
          ]
        }
      ],
      "source": [
        "MODEL = \"gpt-4o-mini-2024-07-18\"\n",
        "\n",
        "response = client.fine_tuning.jobs.create(\n",
        "    training_file=training_file_id,\n",
        "    validation_file=validation_file_id,\n",
        "    model=MODEL,\n",
        "    suffix=\"category-ner\", # Give a specific name to your fine tuned model\n",
        ")\n",
        "\n",
        "job_id = response.id\n",
        "\n",
        "print(\"Job ID:\", response.id)\n",
        "print(\"Status:\", response.status)"
      ]
    },
    {
      "cell_type": "markdown",
      "id": "1de3ed71-f2d4-4138-95a3-70da187a007e",
      "metadata": {
        "id": "1de3ed71-f2d4-4138-95a3-70da187a007e"
      },
      "source": [
        "#### Check job status\n",
        "\n",
        "You can make a `GET` request to the `https://api.openai.com/v1/alpha/fine-tunes` endpoint to list your alpha fine-tune jobs. In this instance you'll want to check that the ID you got from the previous step ends up as `status: succeeded`.\n",
        "\n",
        "Once it is completed, you can use the `result_files` to sample the results from the validation set (if you uploaded one), and use the ID from the `fine_tuned_model` parameter to invoke your trained model.\n"
      ]
    },
    {
      "cell_type": "code",
      "execution_count": 28,
      "id": "d7392f48",
      "metadata": {
        "colab": {
          "base_uri": "https://localhost:8080/"
        },
        "id": "d7392f48",
        "outputId": "50996edf-d804-42d5-f61e-bfd46a731b5c"
      },
      "outputs": [
        {
          "output_type": "stream",
          "name": "stdout",
          "text": [
            "Job ID: ftjob-6b65dk9Gghhj6DR3xTQ8jtRJ\n",
            "Status: running\n",
            "Trained Tokens: None\n"
          ]
        }
      ],
      "source": [
        "response = client.fine_tuning.jobs.retrieve(job_id)\n",
        "\n",
        "print(\"Job ID:\", response.id)\n",
        "print(\"Status:\", response.status)\n",
        "print(\"Trained Tokens:\", response.trained_tokens)"
      ]
    },
    {
      "cell_type": "markdown",
      "id": "30a57fbb",
      "metadata": {
        "id": "30a57fbb"
      },
      "source": [
        "We can track the progress of the fine-tune with the events endpoint. You can rerun the cell below a few times until the fine-tune is ready.\n"
      ]
    },
    {
      "cell_type": "code",
      "execution_count": 42,
      "id": "08cace28",
      "metadata": {
        "colab": {
          "base_uri": "https://localhost:8080/"
        },
        "id": "08cace28",
        "outputId": "c9d42ac2-2678-40fc-a103-d8483e5c2b64"
      },
      "outputs": [
        {
          "output_type": "stream",
          "name": "stdout",
          "text": [
            "Step 288/303: training loss=0.00\n",
            "Step 289/303: training loss=0.01\n",
            "Step 290/303: training loss=0.00, validation loss=0.00\n",
            "Step 291/303: training loss=0.00\n",
            "Step 292/303: training loss=0.10\n",
            "Step 293/303: training loss=0.00\n",
            "Step 294/303: training loss=0.00\n",
            "Step 295/303: training loss=0.00\n",
            "Step 296/303: training loss=0.00\n",
            "Step 297/303: training loss=0.00\n",
            "Step 298/303: training loss=0.00\n",
            "Step 299/303: training loss=0.00\n",
            "Step 300/303: training loss=0.00, validation loss=0.00\n",
            "Step 301/303: training loss=0.05\n",
            "Step 302/303: training loss=0.01\n",
            "Step 303/303: training loss=0.00, full validation loss=0.25\n",
            "Checkpoint created at step 101\n",
            "Checkpoint created at step 202\n",
            "New fine-tuned model created\n",
            "The job has successfully completed\n"
          ]
        }
      ],
      "source": [
        "response = client.fine_tuning.jobs.list_events(job_id)\n",
        "\n",
        "events = response.data\n",
        "events.reverse()\n",
        "\n",
        "for event in events:\n",
        "    print(event.message)"
      ]
    },
    {
      "cell_type": "markdown",
      "id": "d0da4e32",
      "metadata": {
        "id": "d0da4e32"
      },
      "source": [
        "Now that it's done, we can get a fine-tuned model ID from the job:\n"
      ]
    },
    {
      "cell_type": "code",
      "execution_count": 43,
      "id": "40b28c26",
      "metadata": {
        "colab": {
          "base_uri": "https://localhost:8080/"
        },
        "id": "40b28c26",
        "outputId": "4d6fb34b-3e40-4ba4-cf95-2bd3ec483330"
      },
      "outputs": [
        {
          "output_type": "stream",
          "name": "stdout",
          "text": [
            "Fine-tuned model ID: ft:gpt-4o-mini-2024-07-18:ddata:category-ner:ADR4R4S3\n"
          ]
        }
      ],
      "source": [
        "response = client.fine_tuning.jobs.retrieve(job_id)\n",
        "fine_tuned_model_id = response.fine_tuned_model\n",
        "\n",
        "if fine_tuned_model_id is None:\n",
        "    raise RuntimeError(\n",
        "        \"Fine-tuned model ID not found. Your job has likely not been completed yet.\"\n",
        "    )\n",
        "\n",
        "print(\"Fine-tuned model ID:\", fine_tuned_model_id)"
      ]
    },
    {
      "cell_type": "markdown",
      "id": "0025e392-84cd-4566-a384-ea31ca43e567",
      "metadata": {
        "id": "0025e392-84cd-4566-a384-ea31ca43e567"
      },
      "source": [
        "## Inference\n"
      ]
    },
    {
      "cell_type": "markdown",
      "id": "0ab9ac11",
      "metadata": {
        "id": "0ab9ac11"
      },
      "source": [
        "The last step is to use your fine-tuned model for inference. Similar to the classic `FineTuning`, you simply call `ChatCompletions` with your new fine-tuned model name filling the `model` parameter.\n"
      ]
    },
    {
      "cell_type": "code",
      "execution_count": 46,
      "id": "1c7de631-b68f-4eff-9ae7-051641579c2b",
      "metadata": {
        "colab": {
          "base_uri": "https://localhost:8080/"
        },
        "id": "1c7de631-b68f-4eff-9ae7-051641579c2b",
        "outputId": "a714187e-56d4-4b30-cf3f-3ce1382aa1a6"
      },
      "outputs": [
        {
          "output_type": "stream",
          "name": "stdout",
          "text": [
            "[{'content': 'You are a helpful categorization assistant. You are to extract '\n",
            "             'the generic categories from each of the product titles and '\n",
            "             'description provided.',\n",
            "  'role': 'system'},\n",
            " {'content': 'Title: PONTMENT Foot Stool Leather Footstool Solid Wood Vintage '\n",
            "             'Foot Rest Faux Leather Ottoman Upholstered Footrest for Living '\n",
            "             'Room/Sofa/Couch.\\n'\n",
            "             '\\n'\n",
            "             'Description: nan\\n'\n",
            "             '\\n'\n",
            "             'Generic categories: ',\n",
            "  'role': 'user'}]\n"
          ]
        }
      ],
      "source": [
        "test_df = data_df.loc[201:300]\n",
        "test_row = test_df.iloc[0]\n",
        "test_messages = []\n",
        "test_messages.append({\"role\": \"system\", \"content\": system_message})\n",
        "user_message = create_user_message(test_row)\n",
        "test_messages.append({\"role\": \"user\", \"content\": user_message})\n",
        "\n",
        "pprint(test_messages)"
      ]
    },
    {
      "cell_type": "code",
      "execution_count": 47,
      "id": "1a1d2589",
      "metadata": {
        "colab": {
          "base_uri": "https://localhost:8080/"
        },
        "id": "1a1d2589",
        "outputId": "90b585a4-fe4b-4159-f278-5bbd9515c99e"
      },
      "outputs": [
        {
          "output_type": "stream",
          "name": "stdout",
          "text": [
            "['Home & Kitchen', 'Furniture', 'Living Room Furniture', 'Ottomans']\n"
          ]
        }
      ],
      "source": [
        "response = client.chat.completions.create(\n",
        "    model=fine_tuned_model_id, messages=test_messages, temperature=0, max_tokens=500\n",
        ")\n",
        "print(response.choices[0].message.content)"
      ]
    },
    {
      "cell_type": "markdown",
      "id": "07799909-3f2a-4274-b81e-dabc048be28f",
      "metadata": {
        "id": "07799909-3f2a-4274-b81e-dabc048be28f"
      },
      "source": [
        "## Conclusion\n",
        "\n",
        "Congratulations, you are now ready to fine-tune your own models using the `ChatCompletion` format! We look forward to seeing what you build\n"
      ]
    }
  ],
  "metadata": {
    "kernelspec": {
      "display_name": "Python 3",
      "language": "python",
      "name": "python3"
    },
    "language_info": {
      "codemirror_mode": {
        "name": "ipython",
        "version": 3
      },
      "file_extension": ".py",
      "mimetype": "text/x-python",
      "name": "python",
      "nbconvert_exporter": "python",
      "pygments_lexer": "ipython3",
      "version": "3.11.8"
    },
    "colab": {
      "provenance": []
    }
  },
  "nbformat": 4,
  "nbformat_minor": 5
}